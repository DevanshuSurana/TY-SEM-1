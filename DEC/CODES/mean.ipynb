{
  "nbformat": 4,
  "nbformat_minor": 0,
  "metadata": {
    "colab": {
      "provenance": []
    },
    "kernelspec": {
      "name": "python3",
      "display_name": "Python 3"
    },
    "language_info": {
      "name": "python"
    }
  },
  "cells": [
    {
      "cell_type": "code",
      "execution_count": null,
      "metadata": {
        "id": "sw30NV1CvME5"
      },
      "outputs": [],
      "source": [
        "# Import necessary library for data manipulation\n",
        "import pandas as pd\n",
        "\n",
        "# Load the CSV into a Pandas DataFrame\n",
        "df = pd.read_csv('iris.csv')\n",
        "\n",
        "# Print the whole DataFrame\n",
        "df\n",
        "\n",
        "# Display the shape of the DataFrame (number of rows, number of columns)\n",
        "df.shape\n",
        "\n",
        "# Display the first 5 rows of the DataFrame\n",
        "df.head()\n",
        "\n",
        "# Display the first 11 rows of the DataFrame\n",
        "df.head(11)\n",
        "\n",
        "# Display the first 16 rows of the DataFrame\n",
        "df.head(16)\n",
        "\n",
        "# Display the last 11 rows of the DataFrame\n",
        "df.tail(11)\n",
        "\n",
        "# Display the last 16 rows of the DataFrame\n",
        "df.tail(16)\n",
        "\n",
        "# Display data types of each column\n",
        "df.dtypes\n",
        "\n",
        "# Generate descriptive statistics of the DataFrame\n",
        "df.describe()\n",
        "\n",
        "# Display concise summary of the DataFrame, including data types and missing values\n",
        "df.info()\n",
        "\n",
        "# Print the column names of the DataFrame\n",
        "print(df.columns)\n",
        "\n",
        "# Count the occurrences of each unique value in the 'Species' column\n",
        "df['Species'].value_counts()\n",
        "\n",
        "# Find the maximum value in each column\n",
        "df.max()\n",
        "\n",
        "# Find the minimum value in each column\n",
        "df.min()\n",
        "\n",
        "# Count non-null values in each column\n",
        "df.count()\n",
        "\n",
        "# Calculate the mean of each column\n",
        "df.mean()\n",
        "\n",
        "# Calculate the median of each column\n",
        "df.median()\n",
        "\n",
        "# Find the mode of each column\n",
        "df.mode()\n",
        "\n",
        "# Check for missing values in each column and sum them up\n",
        "df.isnull().sum()"
      ]
    }
  ]
}