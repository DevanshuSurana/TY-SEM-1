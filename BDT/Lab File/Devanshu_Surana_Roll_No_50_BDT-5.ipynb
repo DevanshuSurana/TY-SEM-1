{
  "nbformat": 4,
  "nbformat_minor": 0,
  "metadata": {
    "colab": {
      "provenance": []
    },
    "kernelspec": {
      "name": "python3",
      "display_name": "Python 3"
    },
    "language_info": {
      "name": "python"
    }
  },
  "cells": [
    {
      "cell_type": "code",
      "source": [
        "!pip install findspark"
      ],
      "metadata": {
        "colab": {
          "base_uri": "https://localhost:8080/"
        },
        "id": "kXBpUnrKv8_7",
        "outputId": "e0f8e3e1-1bc7-46eb-d9fd-454af9046eab"
      },
      "execution_count": 33,
      "outputs": [
        {
          "output_type": "stream",
          "name": "stdout",
          "text": [
            "Requirement already satisfied: findspark in /usr/local/lib/python3.10/dist-packages (2.0.1)\n"
          ]
        }
      ]
    },
    {
      "cell_type": "code",
      "source": [
        "!pip install pyspark"
      ],
      "metadata": {
        "colab": {
          "base_uri": "https://localhost:8080/"
        },
        "id": "Q12kkMNJwCXE",
        "outputId": "95d5f856-dc04-48b8-e3b7-6bc055407528"
      },
      "execution_count": 34,
      "outputs": [
        {
          "output_type": "stream",
          "name": "stdout",
          "text": [
            "Requirement already satisfied: pyspark in /usr/local/lib/python3.10/dist-packages (3.5.0)\n",
            "Requirement already satisfied: py4j==0.10.9.7 in /usr/local/lib/python3.10/dist-packages (from pyspark) (0.10.9.7)\n"
          ]
        }
      ]
    },
    {
      "cell_type": "code",
      "source": [
        "from pyspark.sql import SparkSession\n",
        "spark=SparkSession.builder.getOrCreate()"
      ],
      "metadata": {
        "id": "NHMXeUhvwSCq"
      },
      "execution_count": 35,
      "outputs": []
    },
    {
      "cell_type": "code",
      "source": [
        "df=spark.read.csv(\"bdt.csv\",header=True)\n",
        "df.head()"
      ],
      "metadata": {
        "colab": {
          "base_uri": "https://localhost:8080/"
        },
        "id": "DqltA4LUxRcG",
        "outputId": "8a43427f-e34a-471e-9436-97c8721938d5"
      },
      "execution_count": 36,
      "outputs": [
        {
          "output_type": "execute_result",
          "data": {
            "text/plain": [
              "Row(CustID='101', Country='USA', Sales='42000')"
            ]
          },
          "metadata": {},
          "execution_count": 36
        }
      ]
    },
    {
      "cell_type": "code",
      "source": [
        "df.show();"
      ],
      "metadata": {
        "colab": {
          "base_uri": "https://localhost:8080/"
        },
        "id": "zvWmkzjfxpd-",
        "outputId": "0d1be64c-14f0-4495-8182-22a9b2039dd4"
      },
      "execution_count": 37,
      "outputs": [
        {
          "output_type": "stream",
          "name": "stdout",
          "text": [
            "+------+------------+-----+\n",
            "|CustID|     Country|Sales|\n",
            "+------+------------+-----+\n",
            "|   101|         USA|42000|\n",
            "|   102|      Canada|60000|\n",
            "|   103|          UK|32000|\n",
            "|   104|     Germany|48000|\n",
            "|   105|      France|28000|\n",
            "|   106|   Australia|72000|\n",
            "|   107|       Japan|64000|\n",
            "|   108|       Spain|20000|\n",
            "|   109|       Italy|56000|\n",
            "|   110|      Mexico|24000|\n",
            "|   111|      Brazil|44000|\n",
            "|   112|       India|76000|\n",
            "|   113|       China|60000|\n",
            "|   114|South Africa|16000|\n",
            "|   115|      Russia|36000|\n",
            "|   116|   Argentina|48000|\n",
            "|   117|      Sweden|24000|\n",
            "|   118|      Norway|32000|\n",
            "|   119|     Denmark|28000|\n",
            "|   120| Netherlands|56000|\n",
            "+------+------------+-----+\n",
            "only showing top 20 rows\n",
            "\n"
          ]
        }
      ]
    },
    {
      "cell_type": "code",
      "source": [
        "df.printSchema();"
      ],
      "metadata": {
        "colab": {
          "base_uri": "https://localhost:8080/"
        },
        "id": "NMj5wDKVxsaY",
        "outputId": "2c472ec1-e268-41cd-9e62-239c151ffe71"
      },
      "execution_count": 38,
      "outputs": [
        {
          "output_type": "stream",
          "name": "stdout",
          "text": [
            "root\n",
            " |-- CustID: string (nullable = true)\n",
            " |-- Country: string (nullable = true)\n",
            " |-- Sales: string (nullable = true)\n",
            "\n"
          ]
        }
      ]
    },
    {
      "cell_type": "code",
      "source": [
        "df.count()"
      ],
      "metadata": {
        "colab": {
          "base_uri": "https://localhost:8080/"
        },
        "id": "omZeyVvDybtT",
        "outputId": "8609cb69-06cf-4eb5-9aa8-8d409d679c12"
      },
      "execution_count": 39,
      "outputs": [
        {
          "output_type": "execute_result",
          "data": {
            "text/plain": [
              "21"
            ]
          },
          "metadata": {},
          "execution_count": 39
        }
      ]
    },
    {
      "cell_type": "code",
      "source": [
        "print(df)"
      ],
      "metadata": {
        "colab": {
          "base_uri": "https://localhost:8080/"
        },
        "id": "g-UYgBwxzHYu",
        "outputId": "36d6d64c-c48c-4ca3-9aac-dde6ec397dda"
      },
      "execution_count": 40,
      "outputs": [
        {
          "output_type": "stream",
          "name": "stdout",
          "text": [
            "DataFrame[CustID: string, Country: string, Sales: string]\n"
          ]
        }
      ]
    },
    {
      "cell_type": "code",
      "source": [
        "df.columns"
      ],
      "metadata": {
        "colab": {
          "base_uri": "https://localhost:8080/"
        },
        "id": "hpsSRBXDzKLP",
        "outputId": "32c1b1b8-d937-4275-b051-02e755a0446e"
      },
      "execution_count": 41,
      "outputs": [
        {
          "output_type": "execute_result",
          "data": {
            "text/plain": [
              "['CustID', 'Country', 'Sales']"
            ]
          },
          "metadata": {},
          "execution_count": 41
        }
      ]
    },
    {
      "cell_type": "code",
      "source": [
        "df.show(truncate=False)"
      ],
      "metadata": {
        "colab": {
          "base_uri": "https://localhost:8080/"
        },
        "id": "mzi9p8XQzNqy",
        "outputId": "2e686c42-207e-441b-fcf3-f1ddb305eefe"
      },
      "execution_count": 42,
      "outputs": [
        {
          "output_type": "stream",
          "name": "stdout",
          "text": [
            "+------+------------+-----+\n",
            "|CustID|Country     |Sales|\n",
            "+------+------------+-----+\n",
            "|101   |USA         |42000|\n",
            "|102   |Canada      |60000|\n",
            "|103   |UK          |32000|\n",
            "|104   |Germany     |48000|\n",
            "|105   |France      |28000|\n",
            "|106   |Australia   |72000|\n",
            "|107   |Japan       |64000|\n",
            "|108   |Spain       |20000|\n",
            "|109   |Italy       |56000|\n",
            "|110   |Mexico      |24000|\n",
            "|111   |Brazil      |44000|\n",
            "|112   |India       |76000|\n",
            "|113   |China       |60000|\n",
            "|114   |South Africa|16000|\n",
            "|115   |Russia      |36000|\n",
            "|116   |Argentina   |48000|\n",
            "|117   |Sweden      |24000|\n",
            "|118   |Norway      |32000|\n",
            "|119   |Denmark     |28000|\n",
            "|120   |Netherlands |56000|\n",
            "+------+------------+-----+\n",
            "only showing top 20 rows\n",
            "\n"
          ]
        }
      ]
    },
    {
      "cell_type": "code",
      "source": [
        "df.describe()"
      ],
      "metadata": {
        "colab": {
          "base_uri": "https://localhost:8080/"
        },
        "id": "Ur3_-hOiz5On",
        "outputId": "e5faee26-b056-4e05-8ace-d7c499438f9d"
      },
      "execution_count": 43,
      "outputs": [
        {
          "output_type": "execute_result",
          "data": {
            "text/plain": [
              "DataFrame[summary: string, CustID: string, Country: string, Sales: string]"
            ]
          },
          "metadata": {},
          "execution_count": 43
        }
      ]
    },
    {
      "cell_type": "code",
      "source": [
        "df.select('country').distinct().show()"
      ],
      "metadata": {
        "colab": {
          "base_uri": "https://localhost:8080/"
        },
        "id": "-SPpzvCPz_A2",
        "outputId": "1de7e7df-4897-4411-a71d-d8e291fe12dc"
      },
      "execution_count": 44,
      "outputs": [
        {
          "output_type": "stream",
          "name": "stdout",
          "text": [
            "+------------+\n",
            "|     country|\n",
            "+------------+\n",
            "|      Russia|\n",
            "|      Sweden|\n",
            "|     Germany|\n",
            "|      France|\n",
            "|   Argentina|\n",
            "|       India|\n",
            "|       China|\n",
            "|       Italy|\n",
            "|      Norway|\n",
            "|       Spain|\n",
            "|     Denmark|\n",
            "|         USA|\n",
            "|      Mexico|\n",
            "|          UK|\n",
            "|      Canada|\n",
            "|      Brazil|\n",
            "|       Japan|\n",
            "|   Australia|\n",
            "|South Africa|\n",
            "| Netherlands|\n",
            "+------------+\n",
            "\n"
          ]
        }
      ]
    },
    {
      "cell_type": "code",
      "source": [
        "df=df.na.fill('0')\n",
        "df.show()"
      ],
      "metadata": {
        "colab": {
          "base_uri": "https://localhost:8080/"
        },
        "id": "rhpEMm9n1kBm",
        "outputId": "b523f584-16c9-42a3-8909-ad7c21d683ba"
      },
      "execution_count": 45,
      "outputs": [
        {
          "output_type": "stream",
          "name": "stdout",
          "text": [
            "+------+------------+-----+\n",
            "|CustID|     Country|Sales|\n",
            "+------+------------+-----+\n",
            "|   101|         USA|42000|\n",
            "|   102|      Canada|60000|\n",
            "|   103|          UK|32000|\n",
            "|   104|     Germany|48000|\n",
            "|   105|      France|28000|\n",
            "|   106|   Australia|72000|\n",
            "|   107|       Japan|64000|\n",
            "|   108|       Spain|20000|\n",
            "|   109|       Italy|56000|\n",
            "|   110|      Mexico|24000|\n",
            "|   111|      Brazil|44000|\n",
            "|   112|       India|76000|\n",
            "|   113|       China|60000|\n",
            "|   114|South Africa|16000|\n",
            "|   115|      Russia|36000|\n",
            "|   116|   Argentina|48000|\n",
            "|   117|      Sweden|24000|\n",
            "|   118|      Norway|32000|\n",
            "|   119|     Denmark|28000|\n",
            "|   120| Netherlands|56000|\n",
            "+------+------------+-----+\n",
            "only showing top 20 rows\n",
            "\n"
          ]
        }
      ]
    },
    {
      "cell_type": "code",
      "source": [
        "df.groupby('country').count().show()"
      ],
      "metadata": {
        "colab": {
          "base_uri": "https://localhost:8080/"
        },
        "id": "A5U1jXEg1jG9",
        "outputId": "5b03e183-daf5-4fa5-ce82-130dfc80bb6a"
      },
      "execution_count": 46,
      "outputs": [
        {
          "output_type": "stream",
          "name": "stdout",
          "text": [
            "+------------+-----+\n",
            "|     country|count|\n",
            "+------------+-----+\n",
            "|      Russia|    1|\n",
            "|      Sweden|    1|\n",
            "|     Germany|    1|\n",
            "|      France|    1|\n",
            "|   Argentina|    1|\n",
            "|       India|    1|\n",
            "|       China|    1|\n",
            "|       Italy|    1|\n",
            "|      Norway|    1|\n",
            "|       Spain|    1|\n",
            "|     Denmark|    1|\n",
            "|         USA|    2|\n",
            "|      Mexico|    1|\n",
            "|          UK|    1|\n",
            "|      Canada|    1|\n",
            "|      Brazil|    1|\n",
            "|       Japan|    1|\n",
            "|   Australia|    1|\n",
            "|South Africa|    1|\n",
            "| Netherlands|    1|\n",
            "+------------+-----+\n",
            "\n"
          ]
        }
      ]
    },
    {
      "cell_type": "code",
      "source": [
        "dfs=df.groupby('custid').agg({'sales':'avg'})\n",
        "dfs.show()"
      ],
      "metadata": {
        "colab": {
          "base_uri": "https://localhost:8080/"
        },
        "id": "m69wOBJW2mgI",
        "outputId": "1069934c-f84f-41b9-80a9-c0d3b87f63d1"
      },
      "execution_count": 47,
      "outputs": [
        {
          "output_type": "stream",
          "name": "stdout",
          "text": [
            "+------+----------+\n",
            "|custid|avg(sales)|\n",
            "+------+----------+\n",
            "|   101|   42000.0|\n",
            "|   112|   76000.0|\n",
            "|   113|   60000.0|\n",
            "|   107|   64000.0|\n",
            "|   110|   24000.0|\n",
            "|   120|   56000.0|\n",
            "|   118|   32000.0|\n",
            "|   104|   48000.0|\n",
            "|   102|   60000.0|\n",
            "|   111|   44000.0|\n",
            "|   103|   32000.0|\n",
            "|   115|   36000.0|\n",
            "|   108|   20000.0|\n",
            "|   117|   24000.0|\n",
            "|   114|   16000.0|\n",
            "|   106|   72000.0|\n",
            "|   116|   48000.0|\n",
            "|   105|   28000.0|\n",
            "|   121|   12000.0|\n",
            "|   109|   56000.0|\n",
            "+------+----------+\n",
            "only showing top 20 rows\n",
            "\n"
          ]
        }
      ]
    },
    {
      "cell_type": "code",
      "source": [
        "dfs=dfs.toPandas()"
      ],
      "metadata": {
        "id": "AMEm0FnR4Ej5"
      },
      "execution_count": 48,
      "outputs": []
    },
    {
      "cell_type": "code",
      "source": [
        "import matplotlib.pyplot as plt\n",
        "import seaborn as sns"
      ],
      "metadata": {
        "id": "nQBlOc3n4TAF"
      },
      "execution_count": 49,
      "outputs": []
    },
    {
      "cell_type": "code",
      "source": [
        "plt.figure(figsize=(12, 6))\n",
        "sns.barplot(x='custid', y='avg(sales)', data=dfs, palette='viridis')\n",
        "plt.title('Average Sales per Customer ID')\n",
        "plt.xlabel('Customer ID')\n",
        "plt.ylabel('Average Sales')\n",
        "plt.show()"
      ],
      "metadata": {
        "colab": {
          "base_uri": "https://localhost:8080/",
          "height": 564
        },
        "id": "uPSpCTh14QZn",
        "outputId": "b3ef6ae0-28c7-45c3-f11d-bcf6f8741c3a"
      },
      "execution_count": 50,
      "outputs": [
        {
          "output_type": "display_data",
          "data": {
            "text/plain": [
              "<Figure size 1200x600 with 1 Axes>"
            ],
            "image/png": "[encoded data removed]"
          },
          "metadata": {}
        }
      ]
    },
    {
      "cell_type": "code",
      "source": [
        "data=df.groupby('country').agg({'sales':'avg'})\n",
        "data.show()"
      ],
      "metadata": {
        "colab": {
          "base_uri": "https://localhost:8080/"
        },
        "id": "of-QQl-a5UaW",
        "outputId": "b6db0208-b930-4b1f-955e-c2208933de97"
      },
      "execution_count": 51,
      "outputs": [
        {
          "output_type": "stream",
          "name": "stdout",
          "text": [
            "+------------+----------+\n",
            "|     country|avg(sales)|\n",
            "+------------+----------+\n",
            "|      Russia|   36000.0|\n",
            "|      Sweden|   24000.0|\n",
            "|     Germany|   48000.0|\n",
            "|      France|   28000.0|\n",
            "|   Argentina|   48000.0|\n",
            "|       India|   76000.0|\n",
            "|       China|   60000.0|\n",
            "|       Italy|   56000.0|\n",
            "|      Norway|   32000.0|\n",
            "|       Spain|   20000.0|\n",
            "|     Denmark|   28000.0|\n",
            "|         USA|   27000.0|\n",
            "|      Mexico|   24000.0|\n",
            "|          UK|   32000.0|\n",
            "|      Canada|   60000.0|\n",
            "|      Brazil|   44000.0|\n",
            "|       Japan|   64000.0|\n",
            "|   Australia|   72000.0|\n",
            "|South Africa|   16000.0|\n",
            "| Netherlands|   56000.0|\n",
            "+------------+----------+\n",
            "\n"
          ]
        }
      ]
    },
    {
      "cell_type": "code",
      "source": [
        "data=data.toPandas()"
      ],
      "metadata": {
        "id": "dgZe7XiB5iKN"
      },
      "execution_count": 52,
      "outputs": []
    },
    {
      "cell_type": "code",
      "source": [
        "plt.figure(figsize=(12, 6))\n",
        "sns.barplot(x='country', y='avg(sales)', data=data, palette='viridis')\n",
        "plt.title('Average Sales per Country')\n",
        "plt.xlabel('Country')\n",
        " plt.ylabel('Average Sales')\n",
        "plt.show()"
      ],
      "metadata": {
        "colab": {
          "base_uri": "https://localhost:8080/",
          "height": 564
        },
        "id": "czEZ382C5hXz",
        "outputId": "63f82eda-8d13-4f22-e934-260f2aae7c5c"
      },
      "execution_count": 53,
      "outputs": [
        {
          "output_type": "display_data",
          "data": {
            "text/plain": [
              "<Figure size 1200x600 with 1 Axes>"
            ],
            "image/png": "[encoded data removed]"
          },
          "metadata": {}
        }
      ]
    }
  ]
}